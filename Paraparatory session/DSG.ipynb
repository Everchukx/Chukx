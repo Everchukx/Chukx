{
 "cells": [
  {
   "cell_type": "code",
   "execution_count": 1,
   "id": "3e277726",
   "metadata": {},
   "outputs": [
    {
     "ename": "NameError",
     "evalue": "name 'Print' is not defined",
     "output_type": "error",
     "traceback": [
      "\u001b[0;31m---------------------------------------------------------------------------\u001b[0m",
      "\u001b[0;31mNameError\u001b[0m                                 Traceback (most recent call last)",
      "Cell \u001b[0;32mIn[1], line 1\u001b[0m\n\u001b[0;32m----> 1\u001b[0m Print(\u001b[38;5;124m\"\u001b[39m\u001b[38;5;124mChukwulota Elias Nwankwo\u001b[39m\u001b[38;5;124m\"\u001b[39m)\n",
      "\u001b[0;31mNameError\u001b[0m: name 'Print' is not defined"
     ]
    }
   ],
   "source": [
    "Print(\"Chukwulota Elias Nwankwo\")"
   ]
  },
  {
   "cell_type": "code",
   "execution_count": null,
   "id": "b6c1cbfc",
   "metadata": {},
   "outputs": [],
   "source": [
    "print(\"chukwulota Elias Nwankwo\")"
   ]
  },
  {
   "cell_type": "code",
   "execution_count": null,
   "id": "0564b8f8",
   "metadata": {},
   "outputs": [],
   "source": [
    "print(\"hello Data Science\")"
   ]
  }
 ],
 "metadata": {
  "kernelspec": {
   "display_name": "Python 3 (ipykernel)",
   "language": "python",
   "name": "python3"
  },
  "language_info": {
   "codemirror_mode": {
    "name": "ipython",
    "version": 3
   },
   "file_extension": ".py",
   "mimetype": "text/x-python",
   "name": "python",
   "nbconvert_exporter": "python",
   "pygments_lexer": "ipython3",
   "version": "3.11.4"
  }
 },
 "nbformat": 4,
 "nbformat_minor": 5
}
